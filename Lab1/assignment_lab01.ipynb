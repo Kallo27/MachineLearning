{
 "cells": [
  {
   "cell_type": "markdown",
   "metadata": {},
   "source": [
    "# Machine Learning LAB 1 \n",
    "Course 2023/24: F. Chiariotti\n",
    "\n",
    "The notebook contains some simple tasks to be performed about **classification and regression**. <br>\n",
    "Complete all the **required code sections** and **answer to all the questions**. <br>\n",
    "\n",
    "### IMPORTANT for the evaluation score:\n",
    "1. **Read carefully all cells** and **follow the instructions**\n",
    "1. **Rerun all the code from the beginning** to obtain the results for the final version of your notebook, since this is the way we will do it before evaluating your notebooks.\n",
    "2. Make sure to fill the code in the appropriate places **without modifying the template**, otherwise you risk breaking later cells.\n",
    "3. Please **submit the jupyter notebook file (.ipynb)**, do not submit python scripts (.py) or plain text files. **Make sure that it runs fine with the restat&run all command** - otherwise points will be deduced.\n",
    "4. **Answer the questions in the appropriate cells**, not in the ones where the question is presented."
   ]
  },
  {
   "cell_type": "markdown",
   "metadata": {},
   "source": [
    "## A) Classification of Stayed/Churned Customers"
   ]
  },
  {
   "cell_type": "markdown",
   "metadata": {},
   "source": [
    "Place your **name** and **ID number** (matricola) in the cell below. <br>\n",
    "Also recall to **save the file as Surname_Name_LAB1.ipynb** otherwise your homework could get lost\n",
    "<br>"
   ]
  },
  {
   "cell_type": "markdown",
   "metadata": {},
   "source": [
    "**Student name**: Lorenzo Calandra Buonaura<br>\n",
    "**ID Number**: 2107761"
   ]
  },
  {
   "cell_type": "markdown",
   "metadata": {},
   "source": [
    "### Dataset description\n",
    "\n",
    "The Customer Churn table contains information on all 3,758 customers from a Telecommunications company in California in Q2 2022. \n",
    "The dataset contains three features:\n",
    "- **Tenure in Months**: Number of months the customer has stayed with the company\n",
    "- **Monthly Charge**: The amount charged to the customer monthly\n",
    "- **Age**: Customer's age\n",
    "\n",
    "The aim of the task is to predict if a customer will churn or not based on the three features.\n",
    "\n",
    "<center>\n",
    "\n",
    "![COVER](data/dataset-cover.png \"COVER\")\n",
    "\n",
    "</center>"
   ]
  },
  {
   "cell_type": "markdown",
   "metadata": {},
   "source": [
    "We first **import** all **the packages** that are needed."
   ]
  },
  {
   "cell_type": "code",
   "execution_count": 3,
   "metadata": {},
   "outputs": [],
   "source": [
    "import pandas as pd\n",
    "from matplotlib import pyplot as plt\n",
    "import numpy as np\n",
    "from sklearn import linear_model, preprocessing"
   ]
  },
  {
   "cell_type": "markdown",
   "metadata": {},
   "source": [
    "Change some global settings for layout purposes."
   ]
  },
  {
   "cell_type": "code",
   "execution_count": 4,
   "metadata": {},
   "outputs": [],
   "source": [
    "# if you are in the jupyter notebook environment you can change the 'inline' option with 'notebook' to get interactive plots\n",
    "%matplotlib inline\n",
    "# change the limit on the line length and crop to 0 very small numbers, for clearer printing\n",
    "np.set_printoptions(linewidth=500, suppress=True)"
   ]
  },
  {
   "cell_type": "markdown",
   "metadata": {},
   "source": [
    "## A.1) Perceptron\n",
    "In the following cells we will **implement** the **perceptron** algorithm and use it to learn a halfspace."
   ]
  },
  {
   "cell_type": "markdown",
   "metadata": {},
   "source": [
    "**TO DO (A.1.0):** **Set** the random **seed** using your **ID**. If you need to change it for testing add a constant explicitly, eg.: 1234567 + 1"
   ]
  },
  {
   "cell_type": "code",
   "execution_count": 5,
   "metadata": {},
   "outputs": [],
   "source": [
    "IDnumber = 2107761 # YOUR_ID\n",
    "np.random.seed(IDnumber)"
   ]
  },
  {
   "cell_type": "markdown",
   "metadata": {},
   "source": [
    "Before proceding to the training steps, we **load the dataset and split it** in training and test set (the **training** set is **typically larger**, here we use a 75% training 25% test split).\n",
    "The **split** is **performed after applying a random permutation** to the dataset, such permutation will **depend on the seed** you set above. Try different seeds to evaluate the impact of randomization.<br><br>\n",
    "**DO NOT CHANGE THE PRE-WRITTEN CODE UNLESS OTHERWISE SPECIFIED**"
   ]
  },
  {
   "cell_type": "markdown",
   "metadata": {},
   "source": [
    "### The Dataset\n",
    "The dataset is a `.csv` file containing three input features and a label. Here is an example of the first 4 rows of the dataset: \n",
    "\n",
    "<center>\n",
    "\n",
    "Tenure in Months | Monthly Charge | Age | Customer Status |\n",
    "| -----------------| ---------------|-----|-----------------|\n",
    "| 9 | 65.6 | 37 | 0 |\n",
    "| 9 | -4.0 | 46 | 0 |\n",
    "| 4 | 73.9 | 50 | 1 |\n",
    "| ... | ... | ... | ... |\n",
    "\n",
    "</center>\n",
    "\n",
    "Customer Status is 0 if the customer has stayed with the company and 1 if the customer has churned."
   ]
  },
  {
   "cell_type": "code",
   "execution_count": 6,
   "metadata": {},
   "outputs": [],
   "source": [
    "def load_dataset(filename):\n",
    "    data_train = pd.read_csv(filename)\n",
    "    #permute the data\n",
    "    data_train = data_train.sample(frac=1).reset_index(drop=True) # shuffle the data\n",
    "    X = data_train.iloc[:, 0:3].values # Get first two columns as the input\n",
    "    Y = data_train.iloc[:, 3].values # Get the third column as the label\n",
    "    Y = 2*Y-1 # Make sure labels are -1 or 1 (0 --> -1, 1 --> 1)\n",
    "    return X,Y"
   ]
  },
  {
   "cell_type": "code",
   "execution_count": 7,
   "metadata": {},
   "outputs": [],
   "source": [
    "# Load the dataset\n",
    "X, Y = load_dataset('data/telecom_customer_churn_cleaned.csv')"
   ]
  },
  {
   "cell_type": "markdown",
   "metadata": {},
   "source": [
    "We are going to differentiate (classify) between **class \"1\" (churned)** and **class \"-1\" (stayed)**"
   ]
  },
  {
   "cell_type": "markdown",
   "metadata": {},
   "source": [
    "# Split data in training and test sets\n",
    "\n",
    "\n",
    "\n",
    "Given $m$ total data, denote with $m_{t}$ the part used for training. Keep $m_t$ data as training data, and $m_{test}:= m-m_{t}$. <br>\n",
    "For instance one can take $m_t=0.75m$ of the data as training and $m_{test}=0.25m$ as testing. <br>\n",
    "Let us define as define\n",
    "\n",
    "$\\bullet$ $S_{t}$ the training data set\n",
    "\n",
    "$\\bullet$ $S_{test}$ the testing data set\n",
    "\n",
    "\n",
    "The reason for this splitting is as follows:\n",
    "\n",
    "TRAINING DATA: The training data are used to compute the empirical loss\n",
    "$$\n",
    "L_S(h) = \\frac{1}{m_t} \\sum_{z_i \\in S_{t}} \\ell(h,z_i)\n",
    "$$\n",
    "which is used to estimate $h$ in a given model class ${\\cal H}$.\n",
    "i.e. \n",
    "$$\n",
    "\\hat{h} = {\\rm arg\\; min}_{h \\in {\\cal H}} \\, L_S(h)\n",
    "$$\n",
    "\n",
    "TESTING DATA: The test data set can be used to estimate the performance of the final estimated model\n",
    "$\\hat h_{\\hat d_j}$ using:\n",
    "$$\n",
    "L_{{\\cal D}}(\\hat h_{\\hat d_j}) \\simeq \\frac{1}{m_{test}} \\sum_{ z_i \\in S_{test}} \\ell(\\hat h_{\\hat d_j},z_i)\n",
    "$$"
   ]
  },
  {
   "cell_type": "markdown",
   "metadata": {},
   "source": [
    "**TO DO (A.1.1):** **Divide** the **data into training and test set** (**75%** of the data in the **first** set, **25%** in the **second** one). <br>\n",
    "<br>\n",
    "Notice that as is common practice in Statistics and Machine Learning, **we scale the data** (= each variable) so that it is centered **(zero mean)** and has **standard deviation equal to 1**. <br>\n",
    "This helps in terms of numerical conditioning of the (inverse) problems of estimating the model (the coefficients of the linear regression in this case), as well as to give the same scale to all the coefficients."
   ]
  },
  {
   "cell_type": "code",
   "execution_count": 8,
   "metadata": {},
   "outputs": [
    {
     "name": "stdout",
     "output_type": "stream",
     "text": [
      "Number of samples in the train set: 2817\n",
      "Number of samples in the test set: 940\n",
      "\n",
      "Number of night instances in test: 471\n",
      "Number of day instances in test: 469\n",
      "Mean of the training input data: [ 0.  0. -0.]\n",
      "Std of the training input data: [1. 1. 1.]\n",
      "Mean of the test input data: [0.00724163 0.01779069 0.01936804]\n",
      "Std of the test input data: [0.99330237 0.98060188 1.00460132]\n"
     ]
    }
   ],
   "source": [
    "# compute the splits\n",
    "m_training = int(0.75 * len(X))\n",
    "\n",
    "# m_test is the number of samples in the test set (total-training)\n",
    "m_test = len(X) - m_training\n",
    "\n",
    "# X_training = instances for training set\n",
    "X_training = np.ndarray([m_training, 3])\n",
    "\n",
    "for i in range(0, m_training):\n",
    "    X_training[i] = X[i]\n",
    "\n",
    "# Y_training = labels for the training set\n",
    "Y_training =  np.ndarray([m_training, 1])\n",
    "\n",
    "for i in range(0, m_training):\n",
    "    Y_training[i] = Y[i]\n",
    "    \n",
    "# X_test = instances for test set\n",
    "X_test =  np.ndarray([m_test, 3])\n",
    "\n",
    "for i in range(0, m_test):\n",
    "    X_test[i] = X[i]\n",
    "    \n",
    "# Y_test = labels for the test set\n",
    "Y_test = np.ndarray([m_test, 1])\n",
    "\n",
    "for i in range(0, m_test):\n",
    "    Y_test[i] = Y[i]\n",
    "        \n",
    "print(\"Number of samples in the train set:\", X_training.shape[0])\n",
    "print(\"Number of samples in the test set:\", X_test.shape[0])\n",
    "print(\"\\nNumber of night instances in test:\", np.sum(Y_test==-1))\n",
    "print(\"Number of day instances in test:\", np.sum(Y_test==1))\n",
    "\n",
    "# standardize the input matrix\n",
    "# the transformation is computed on training data and then used on all the 3 sets\n",
    "scaler = preprocessing.StandardScaler().fit(X_training) \n",
    "\n",
    "np.set_printoptions(suppress=True) # sets to zero floating point numbers < min_float_eps\n",
    "X_training = scaler.transform(X_training)\n",
    "print (\"Mean of the training input data:\", X_training.mean(axis=0))\n",
    "print (\"Std of the training input data:\",X_training.std(axis=0))\n",
    "\n",
    "X_test = scaler.transform(X_test)\n",
    "print (\"Mean of the test input data:\", X_test.mean(axis=0))\n",
    "print (\"Std of the test input data:\", X_test.std(axis=0))"
   ]
  },
  {
   "cell_type": "markdown",
   "metadata": {},
   "source": [
    "We **add a 1 in front of each sample** so that we can use a vector in **homogeneous coordinates** to describe all the coefficients of the model. This can be done with the function $hstack$ in $numpy$."
   ]
  },
  {
   "cell_type": "code",
   "execution_count": 9,
   "metadata": {},
   "outputs": [],
   "source": [
    "def to_homogeneous(X_training, X_test):\n",
    "    # Add a 1 to each sample (homogeneous coordinates)\n",
    "    X_training = np.hstack( [np.ones( (X_training.shape[0], 1) ), X_training] )\n",
    "    X_test = np.hstack( [np.ones( (X_test.shape[0], 1) ), X_test] )\n",
    "    \n",
    "    return X_training, X_test"
   ]
  },
  {
   "cell_type": "code",
   "execution_count": 10,
   "metadata": {},
   "outputs": [
    {
     "name": "stdout",
     "output_type": "stream",
     "text": [
      "Training set in homogeneous coordinates:\n",
      "[[ 1.          0.36544046  0.90662347 -0.90928749]\n",
      " [ 1.         -0.67802955  0.4706728  -0.0279492 ]\n",
      " [ 1.          0.32370166 -0.16983934  0.55960967]\n",
      " [ 1.         -1.17889515 -0.60243654 -0.79177572]\n",
      " [ 1.         -0.92846235 -1.58332555  0.79463321]\n",
      " [ 1.          0.24022406  1.1245988   1.20592442]\n",
      " [ 1.         -1.01193995  0.25772766 -1.61435813]\n",
      " [ 1.         -0.51107435 -1.61686021 -1.20306692]\n",
      " [ 1.         -0.63629075 -0.27044334 -0.20421686]\n",
      " [ 1.          0.11500766  0.41869407 -0.96804338]]\n"
     ]
    }
   ],
   "source": [
    "# convert to homogeneous coordinates using the function above\n",
    "X_training, X_test = to_homogeneous(X_training, X_test)\n",
    "print(\"Training set in homogeneous coordinates:\")\n",
    "print(X_training[:10])"
   ]
  },
  {
   "cell_type": "markdown",
   "metadata": {},
   "source": [
    "**TO DO (A.1.2):** Now **complete** the function *perceptron*. <br>\n",
    "The **perceptron** algorithm **does not terminate** if the **data** is not **linearly separable**, therefore your implementation should **terminate** if it **reached the termination** condition seen in class **or** if a **maximum number of iterations** have already been run, where one **iteration** corresponds to **one update of the perceptron weights**. In case the **termination** is reached **because** the **maximum** number of **iterations** have been completed, the implementation should **return the best model** seen throughout .\n",
    "\n",
    "The input parameters to pass are:\n",
    "- $X$: the matrix of input features, one row for each sample\n",
    "- $Y$: the vector of labels for the input features matrix X\n",
    "- $max\\_num\\_iterations$: the maximum number of iterations for running the perceptron\n",
    "\n",
    "The output values are:\n",
    "- $best\\_w$: the vector with the coefficients of the best model (or the latest, if the termination condition is reached)\n",
    "- $best\\_error$: the *fraction* of misclassified samples for the best model"
   ]
  },
  {
   "cell_type": "code",
   "execution_count": 106,
   "metadata": {},
   "outputs": [],
   "source": [
    "def count_errors(current_w, X, Y):\n",
    "    # This function:\n",
    "    # computes the number of misclassified samples\n",
    "    # returns the index of all misclassified samples\n",
    "    # if there are no misclassified samples, returns -1 as index\n",
    "    index_errors = []\n",
    "    num_errors = 0\n",
    "    \n",
    "    for i in range(len(Y)):\n",
    "        if np.dot(current_w, X[i]) * Y[i] <= 0:\n",
    "            index_errors.append(i)\n",
    "            num_errors += 1\n",
    "    \n",
    "    if index_errors != []:\n",
    "        return num_errors, index_errors\n",
    "    else:\n",
    "        return num_errors, -1\n",
    "         \n",
    "    # ADD YOUR CODE HERE\n",
    "    # WRITE THE FUNCTION\n",
    "        \n",
    "def perceptron_update(current_w, x, y):\n",
    "    # Place in this function the update rule of the perceptron algorithm\n",
    "    # Remember that numpy arrays can be treated as generalized variables\n",
    "    # therefore given array a = [1,2,3,4], the operation b = 10*a will yield\n",
    "    # b = [10, 20, 30, 40]\n",
    "    new_w = current_w + x * y \n",
    "    return new_w\n",
    "\n",
    "def perceptron_no_randomization(X, Y, max_num_iterations):\n",
    "    \n",
    "    # Initialize some support variables\n",
    "    num_samples = X.shape[0]\n",
    "    # best_errors will keep track of the best (minimum) number of errors\n",
    "    # seen throughout training, used for the update of the best_w variable\n",
    "    best_error = num_samples+1\n",
    "    \n",
    "    # Initialize the weights of the algorithm with w=0\n",
    "    curr_w = np.zeros(4)\n",
    "    # The best_w variable will be used to keep track of the best solution\n",
    "    best_w = curr_w.copy()\n",
    "\n",
    "    # compute the number of misclassified samples and the index of the first of them\n",
    "    num_misclassified, index_misclassified = count_errors(curr_w, X, Y)\n",
    "    # update the 'best' variables\n",
    "    if num_misclassified < best_error:\n",
    "        best_error = num_misclassified\n",
    "        best_w = curr_w\n",
    "    \n",
    "    # initialize the number of iterations\n",
    "    num_iter = 0\n",
    "    # Main loop continue until all samples correctly classified or max # iterations reached\n",
    "    # Remember that to signify that no errors were found we set index_misclassified = -1\n",
    "    while index_misclassified != -1 and num_iter < max_num_iterations:\n",
    "        curr_w = perceptron_update(best_w, X[index_misclassified[0]], Y[index_misclassified[0]])\n",
    "        num_misclassified, index_misclassified = count_errors(curr_w, X, Y)\n",
    "               \n",
    "        if num_misclassified < best_error:\n",
    "            best_error = num_misclassified\n",
    "            best_w = curr_w\n",
    "    \n",
    "        num_iter +=1\n",
    "\n",
    "        # Choose the misclassified sample with the lowest index at each iteration\n",
    "\n",
    "    # as required, return the best error as a ratio with respect to the total number of samples\n",
    "    best_error = best_error/num_samples\n",
    "    \n",
    "    return best_w, best_error\n"
   ]
  },
  {
   "cell_type": "markdown",
   "metadata": {},
   "source": [
    "Now we use the implementation above of the perceptron to learn a model from the training data using 30 iterations and print the error of the best model we have found."
   ]
  },
  {
   "cell_type": "code",
   "execution_count": 142,
   "metadata": {},
   "outputs": [
    {
     "name": "stdout",
     "output_type": "stream",
     "text": [
      "Training Error of perceptron (30 iterations): 0.29818956336528224\n"
     ]
    }
   ],
   "source": [
    "# Now run the perceptron for 100 iterations\n",
    "w_found, error = perceptron_no_randomization(X_training,Y_training, 30)\n",
    "print(\"Training Error of perceptron (30 iterations): \" + str(error))"
   ]
  },
  {
   "cell_type": "markdown",
   "metadata": {},
   "source": [
    "**TO DO (A.1.3):** use the best model $w\\_found$ to **predict the labels for the test dataset** and print the fraction of misclassified samples in the test set (the test error that is an estimate of the true loss)."
   ]
  },
  {
   "cell_type": "code",
   "execution_count": 143,
   "metadata": {},
   "outputs": [
    {
     "name": "stdout",
     "output_type": "stream",
     "text": [
      "Test Error of perceptron (30 iterations): 0.3191489361702128\n"
     ]
    }
   ],
   "source": [
    "errors, _ = count_errors(w_found, X_test,Y_test)\n",
    "\n",
    "true_loss_estimate = errors/len(Y_test)\n",
    "# NOTE: you can avoid using num_errors if you prefer, as long as true_loss_estimate is correct\n",
    "print(\"Test Error of perceptron (30 iterations): \" + str(true_loss_estimate))"
   ]
  },
  {
   "cell_type": "markdown",
   "metadata": {},
   "source": [
    "**TO DO (A.1.4):** implement the correct randomized version of the perceptron such that at each iteration the algorithm picks a random misclassified sample and updates the weights using that sample."
   ]
  },
  {
   "cell_type": "code",
   "execution_count": 144,
   "metadata": {},
   "outputs": [],
   "source": [
    "def perceptron(X, Y, max_num_iterations):\n",
    "    # Use the previous function as a template to \n",
    "    # implement the random version of the perceptron algorithm\n",
    "        \n",
    "    num_samples = X.shape[0]\n",
    "    best_error = num_samples+1\n",
    "    \n",
    "    curr_w = np.random.rand(4)\n",
    "    best_w = curr_w.copy()\n",
    "\n",
    "    num_misclassified, index_misclassified = count_errors(curr_w, X, Y)\n",
    "    if num_misclassified < best_error:\n",
    "        best_error = num_misclassified\n",
    "        best_w = curr_w\n",
    "    \n",
    "    num_iter = 0\n",
    "    while index_misclassified != -1 and num_iter < max_num_iterations:\n",
    "        ran_value = np.random.rand(4)\n",
    "        curr_w = perceptron_update(best_w, ran_value, Y[np.random.randint(0, len(index_misclassified))])\n",
    "        num_misclassified, index_misclassified = count_errors(curr_w, X, Y)\n",
    "        \n",
    "        if num_misclassified < best_error:\n",
    "            best_error = num_misclassified\n",
    "            best_w = curr_w\n",
    "        \n",
    "        num_iter +=1\n",
    "\n",
    "    best_error = best_error/num_samples\n",
    "    \n",
    "    return best_w, best_error"
   ]
  },
  {
   "cell_type": "markdown",
   "metadata": {},
   "source": [
    "**TO DO (A.1.5):** Now test the correct version of the perceptron using 30 iterations and print the error of the best model we have found."
   ]
  },
  {
   "cell_type": "code",
   "execution_count": 145,
   "metadata": {},
   "outputs": [
    {
     "name": "stdout",
     "output_type": "stream",
     "text": [
      "Training Error of perceptron (30 iterations): 0.2850550230741924\n",
      "Test Error of perceptron (30 iterations): 0.30957446808510636\n"
     ]
    }
   ],
   "source": [
    "# Now run the perceptron for 30 iterations\n",
    "w_found, error = perceptron(X_training,Y_training, 30)\n",
    "print(\"Training Error of perceptron (30 iterations): \" + str(error))\n",
    "\n",
    "errors, _ = count_errors(w_found, X_test,Y_test)\n",
    "\n",
    "true_loss_estimate = errors/len(Y_test)\n",
    "# NOTE: you can avoid using num_errors if you prefer, as long as true_loss_estimate is correct\n",
    "print(\"Test Error of perceptron (30 iterations): \" + str(true_loss_estimate))"
   ]
  },
  {
   "cell_type": "markdown",
   "metadata": {},
   "source": [
    "**TO DO (A.Q2) [Answer the following]** <br>\n",
    "What is the difference between the two versions of the perceptron? Can you explain why there is this difference? <br>"
   ]
  },
  {
   "cell_type": "markdown",
   "metadata": {},
   "source": [
    "<div class=\"alert alert-block alert-info\">\n",
    "**ANSWER A.Q2**:<br>\n",
    "answer here\n",
    " </div>"
   ]
  },
  {
   "cell_type": "markdown",
   "metadata": {},
   "source": [
    "### Now consider only a the random version of the perceptron\n",
    "\n",
    "**TO DO (A.Q2) [Answer the following]** <br>\n",
    "What about the difference between the training error and the test error  in terms of fraction of misclassified samples? Explain what you observe. (Notice that with a very small dataset like this one results can change due to randomization, try to run with different random seeds if you get unexpected results)."
   ]
  },
  {
   "cell_type": "markdown",
   "metadata": {},
   "source": [
    "<div class=\"alert alert-block alert-info\">\n",
    "**ANSWER A.Q2**:<br>\n",
    "answer here\n",
    " </div>"
   ]
  },
  {
   "cell_type": "code",
   "execution_count": 137,
   "metadata": {},
   "outputs": [
    {
     "data": {
      "image/png": "[encoded data removed]",
      "text/plain": [
       "<Figure size 800x400 with 1 Axes>"
      ]
     },
     "metadata": {},
     "output_type": "display_data"
    }
   ],
   "source": [
    "# Plot the loss with respect to the number of iterations\n",
    "plt.figure(figsize=(8,4))\n",
    "\n",
    "num_iters = np.arange(0, 1001, 20)\n",
    "errors = []\n",
    "\n",
    "for num_iter in num_iters:\n",
    "    _, error = perceptron(X_training, Y_training, num_iter)\n",
    "    errors.append(error)\n",
    "\n",
    "plt.plot(num_iters, errors)\n",
    "plt.xlabel('Number of iterations')\n",
    "plt.ylabel('Training error')\n",
    "plt.grid()\n",
    "plt.show()\n",
    "\n",
    "# NOTE how the training loss decreases as we increase the number of iterations"
   ]
  },
  {
   "cell_type": "markdown",
   "metadata": {},
   "source": [
    "**TO DO (A.1.6):** Copy the code from the last 2 cells above in the cell below and repeat the training with 3000 iterations. Then print the error in the training set and the estimate of the true loss obtained from the test set."
   ]
  },
  {
   "cell_type": "code",
   "execution_count": 146,
   "metadata": {
    "scrolled": true
   },
   "outputs": [
    {
     "name": "stdout",
     "output_type": "stream",
     "text": [
      "Training Error of perceptron (3000 iterations): 0.24068157614483493\n",
      "Test Error of perceptron (3000 iterations): 0.26595744680851063\n"
     ]
    }
   ],
   "source": [
    "w_found, error = perceptron(X_training, Y_training, 3000)  \n",
    "print(\"Training Error of perceptron (3000 iterations): \" + str(error))\n",
    "\n",
    "num_errors, _ =  count_errors(w_found, X_test, Y_test)  \n",
    "\n",
    "true_loss_estimate = num_errors/len(Y_test)  \n",
    "print(\"Test Error of perceptron (3000 iterations): \" + str(true_loss_estimate))"
   ]
  },
  {
   "cell_type": "markdown",
   "metadata": {},
   "source": [
    "**TO DO (A.Q3) [Answer the following]** <br>\n",
    "What about the difference between the training error and the test error (in terms of the fraction of misclassified samples) when running for a larger number of iterations? Explain what you observe and compare with the previous case."
   ]
  },
  {
   "cell_type": "markdown",
   "metadata": {},
   "source": [
    "<div class=\"alert alert-block alert-info\">\n",
    "**ANSWER A.Q3**:<br>\n",
    "answer here\n",
    "</div>"
   ]
  },
  {
   "cell_type": "markdown",
   "metadata": {},
   "source": [
    "# A.2) Logistic Regression\n",
    "Now we use **logistic regression**, exploiting the implementation in **Scikit-learn**, to predict labels. We will also plot the decision boundaries of logistic regression.\n",
    "\n",
    "We first load the dataset again."
   ]
  },
  {
   "cell_type": "markdown",
   "metadata": {},
   "source": [
    "To define a logistic regression model in Scikit-learn use the instruction\n",
    "\n",
    "$linear\\_model.LogisticRegression(C=1e5)$\n",
    "\n",
    "($C$ is a parameter related to *regularization*, a technique that\n",
    "we will see later in the course. Setting it to a high value is almost\n",
    "as ignoring regularization, so the instruction above corresponds to the\n",
    "logistic regression you have seen in class.)\n",
    "\n",
    "To learn the model you need to use the $fit(...)$ instruction and to predict you need to use the $predict(...)$ function. <br>\n",
    "See the Scikit-learn documentation for how to use it [here](https://scikit-learn.org/stable/modules/generated/sklearn.linear_model.LogisticRegression.html).\n",
    "\n",
    "**TO DO (A.2.2):** **Define** the **logistic regression** model, then **learn** the model using **the training set** and **predict** on the **test set**. Then **print** the **fraction of samples misclassified** in the training set and in the test set."
   ]
  },
  {
   "cell_type": "code",
   "execution_count": null,
   "metadata": {},
   "outputs": [],
   "source": [
    "# part on logistic regression for 2 classes\n",
    "logreg = # ADD YOUR CODE HERE # C should be very large to ignore regularization (see above)\n",
    "\n",
    "# learn from training set: hint use fit(...)\n",
    "# ADD YOUR CODE HERE\n",
    "print(\"Intercept:\" , logreg.intercept_)\n",
    "print(\"Coefficients:\" , logreg.coef_)\n",
    "\n",
    "# predict on training set\n",
    "predicted_training = # ADD YOUR CODE HERE\n",
    "\n",
    "# print the error rate = fraction of misclassified samples\n",
    "error_count_training = (predicted_training != Y_training).sum()\n",
    "error_rate_training = # ADD YOUR CODE HERE\n",
    "print(\"Error rate on training set: \"+str(error_rate_training))\n",
    "\n",
    "# predict on test set\n",
    "predicted_test = # ADD YOUR CODE HERE\n",
    "\n",
    "#print the error rate = fraction of misclassified samples\n",
    "error_count_test = (predicted_test != Y_test).sum()\n",
    "error_rate_test = # ADD YOUR CODE HERE\n",
    "print(\"Error rate on test set: \" + str(error_rate_test))"
   ]
  },
  {
   "cell_type": "markdown",
   "metadata": {},
   "source": [
    "**TO DO (A.2.3)** Now **pick two features** and restrict the dataset to include only two features, whose indices are specified in the $idx0$ and $idx1$ variables below. Then split into training and test."
   ]
  },
  {
   "cell_type": "code",
   "execution_count": null,
   "metadata": {},
   "outputs": [],
   "source": [
    "feature_names  = [\"Tenure in Months\",\"Monthly Charge\",\"Age\"]\n",
    "\n",
    "# Select the two features to use\n",
    "idx0 = # ADD YOUR CODE HERE\n",
    "idx1 = # ADD YOUR CODE HERE\n",
    "\n",
    "X_reduced = X[:,[idx0, idx1]]\n",
    "\n",
    "# re-initialize the dataset splits, with the reduced sets\n",
    "X_training = # ADD YOUR CODE HERE\n",
    "Y_training = # ADD YOUR CODE HERE\n",
    "\n",
    "X_test = # ADD YOUR CODE HERE\n",
    "Y_test = # ADD YOUR CODE HERE"
   ]
  },
  {
   "cell_type": "markdown",
   "metadata": {},
   "source": [
    "Now learn a model using the training data and measure the performances."
   ]
  },
  {
   "cell_type": "code",
   "execution_count": null,
   "metadata": {},
   "outputs": [],
   "source": [
    "# learning from training data\n",
    "# ADD YOUR CODE HERE\n",
    "# predict on test set\n",
    "predicted_test = # ADD YOUR CODE HERE\n",
    "\n",
    "#print the error rate = fraction of misclassified samples\n",
    "error_count_test = (predicted_test != Y_test).sum()\n",
    "\n",
    "# print the error rate = fraction of misclassified samples\n",
    "error_rate_test = # ADD YOUR CODE HERE\n",
    "print(\"Error rate on test set: \" + str(error_rate_test))"
   ]
  },
  {
   "cell_type": "markdown",
   "metadata": {},
   "source": [
    "**TO DO (A.Q4) [Answer the following]** <br>\n",
    "Which features did you select and why? <br>\n",
    "Compare the perfomance of the classifiers trained with every combination of two features with that of the baseline (which used all 3 features)."
   ]
  },
  {
   "cell_type": "markdown",
   "metadata": {},
   "source": [
    "<div class=\"alert alert-block alert-info\">\n",
    "**ANSWER A.Q4**:<br>\n",
    "answer here\n",
    "</div>"
   ]
  }
 ],
 "metadata": {
  "anaconda-cloud": {},
  "kernelspec": {
   "display_name": "Python 3",
   "language": "python",
   "name": "python3"
  },
  "language_info": {
   "codemirror_mode": {
    "name": "ipython",
    "version": 3
   },
   "file_extension": ".py",
   "mimetype": "text/x-python",
   "name": "python",
   "nbconvert_exporter": "python",
   "pygments_lexer": "ipython3",
   "version": "3.10.12"
  }
 },
 "nbformat": 4,
 "nbformat_minor": 4
}
